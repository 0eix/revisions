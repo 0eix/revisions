{
  "cells": [
    {
      "cell_type": "markdown",
      "source": [
        "# **Fiche de revision - Methode Expérimentale**\n",
        "\n",
        "<table style=\"border-style: none\">\n",
        "<tr>\n",
        "<td>\n",
        "<img src=\"https://github.com/0eix/revisions/blob/main/img/1.png?raw=1\" alt=\"The scientific method\" width=\"500\"/>\n",
        "</td>\n",
        "</tr>\n",
        "\n",
        "<tr>\n",
        "<td>\n",
        "<img src=\"https://github.com/0eix/revisions/blob/main/img/2.png?raw=1\" alt=\"The scientific method\" width=\"500\"/>\n",
        "</td>\n",
        "</tr>\n",
        "\n",
        "<tr>\n",
        "<td>\n",
        "<img src=\"https://github.com/0eix/revisions/blob/main/img/3.png?raw=1\" alt=\"The scientific method\" width=\"500\"/>\n",
        "</td>\n",
        "</tr>\n",
        "\n",
        "<tr>\n",
        "<td>\n",
        "<img src=\"https://github.com/0eix/revisions/blob/main/img/4.png?raw=1\" alt=\"The scientific method\" width=\"500\"/>\n",
        "</td>\n",
        "</tr>\n",
        "\n",
        "<tr>\n",
        "<td>\n",
        "<img src=\"https://github.com/0eix/revisions/blob/main/img/5.png?raw=1\" alt=\"The scientific method\" width=\"500\"/>\n",
        "</td>\n",
        "</tr>\n",
        "\n",
        "<tr>\n",
        "<td>\n",
        "<img src=\"https://github.com/0eix/revisions/blob/main/img/6.png?raw=1\" alt=\"The scientific method\" width=\"500\"/>\n",
        "</td>\n",
        "</tr>\n",
        "</table>\n",
        "\n",
        "[Exemple de méthode par expérimentation : la panne de grille-pain, Khan Academy](https://fr.khanacademy.org/science/high-school-biology/hs-biology-foundations/hs-biology-and-the-scientific-method/a/hs-biology-and-the-scientific-method-review)"
      ],
      "metadata": {
        "id": "w9KhAcEYKrpW"
      },
      "id": "w9KhAcEYKrpW"
    },
    {
      "cell_type": "markdown",
      "source": [
        "---\n",
        "# **Introduction**\n",
        "\n",
        "En science, pour être valide, le processus de production de toute connaissance scientifique, qu'il s'agisse d'observations, d'expériences, de raisonnements, ou de calculs théoriques doit être guidé par un ensemble de canons appelé *méthode scientifique*[<sup>[1]</sup>](#1).  \n",
        "\n",
        "## **1. La méthode hypothético-déductive**\n",
        "La méthode hypothético-déductive est une méthode scientifique rigoureuse qui permet de construire des connaissances en partant d'une question, en faisant des recherches, en émettant une hypothèse, en testant cette hypothèse par une expérience et en analysant les résultats pour en tirer une conclusion.  \n",
        "Si les données collectées correspondent aux prédictions, cela renforce la validité de l'hypothèse. Sinon, l'hypothèse doit être révisée. Cette méthode est un processus cyclique de formulation d'hypothèses, de prédiction, de test, et de révision[<sup>[2]</sup>](#2).\n",
        "\n",
        "<img src=\"https://github.com/0eix/revisions/blob/main/img/The_Scientific_Method.svg.png?raw=1\" alt=\"The scientific method\" width=\"500\" height=\"500\" />\n",
        "\n",
        "<img src=\"https://github.com/0eix/revisions/blob/main/img/Me%CC%81thode_scientifique.png?raw=1\" alt=\"The scientific method\" width=\"500\" height=\"500\" />\n",
        "\n",
        "## **2. La méthode expérimentale**\n",
        "La méthode expérimentale est une forme de la méthode hypothético-déductive qui vise à mettre à l'épreuve la validité d'une hypothèse en manipulant une variable indépendante (liée à l'hypothèse que l'on souhaite tester), considérée comme la cause, tandis qu'une variable dépendante, représentant l'effet, est mesurée. De plus, toutes les variables extérieures susceptibles d'influencer les résultats sont rigoureusement contrôlées. L'objectif ultime est d'établir des relations de cause à effet[<sup>[3]</sup>](#3).\n",
        "\n",
        "<img src=\"https://github.com/0eix/revisions/blob/main/img/variables2.webp?raw=1\" width=\"500\" alt=\"Variables d'une experience\"/>\n",
        "<img src=\"https://github.com/0eix/revisions/blob/main/img/variables.webp?raw=1\" width=\"500\" alt=\"Variables d'une experience\"/>\n",
        "\n",
        "## **3. IMRaD**\n",
        "L'une des étapes finales du cycle de recherche consiste à publier la recherche. La structure standard des articles scientifiques communément employée dans les revues en psychologie est IMRaD (Introduction, Methods, Results, and Discussion) dont la méthode expérimentale et les resultats figurent au coeur.\n",
        "\n",
        "<img src=\"https://github.com/0eix/revisions/blob/main/img/Wineglass_model_for_IMRaD_structure..png?raw=1\" alt=\"Model IMRaD\"/>\n",
        "\n"
      ],
      "metadata": {
        "collapsed": false,
        "id": "d2fd918af2bc636c"
      },
      "id": "d2fd918af2bc636c"
    },
    {
      "cell_type": "markdown",
      "source": [
        "---\n",
        "# Partie I - Les Concepts Clés de la Méthode Expérimentale\n",
        "## 1. Le plan d'observation et le plan d'analyse\n",
        "<mark>Le plan d'observation et le plan d'analyse sont deux éléments clés de la méthode expérimentale. Le plan d'observation est une étape préliminaire qui consiste à décrire la manière dont les informations sur les variables que que veut étudier (données) seront recueillies. Le plan d'analyse, quant à lui, est une étape ultérieure qui consiste à analyser les données recueillies lors de l'expérience pour vérifier ou infirmer l'hypothèse 2.</mark>\n",
        "\n",
        "## 2. Validité interne et externe d'une etude\n",
        "**Validité interne**: Existe t'il une autre variable à par les variables independantes qui puisse avoir causé le resultat ? Les variables externes ont-elles été controllées ?\n",
        "\n",
        "**Validité externe ou validité écologique**: Il y a t'il absence de biais dans la selection de l'echantillon ? l'echantillon est il representatif de ma population ? Les resulats pourront-il etre généralisés à la population?\n",
        "\n",
        "## 3. Population vs Echantillon\n",
        "La population est l'ensemble complet des individus sur lesquels nous souhaitons tirer une conclusion, tandis que l'échantillon est un sous-ensemble de la population.\n",
        "\n",
        "## 4. Correlation\n",
        "La corrélation est une méthode statistique permettant de définir le degré d'association entre deux variables ⁷. Elle permet de mesurer la force et la direction de la relation entre deux variables ⁶. La corrélation ne permet pas d'établir une relation de cause à effet entre les variables, mais seulement de mesurer leur association ¹.\n",
        "\n",
        "Pour établir une corrélation, il faut tout d'abord collecter des données sur les deux variables en question. Ensuite, on peut calculer le coefficient de corrélation, qui mesure la force et la direction de la relation entre les deux variables ⁶. Le coefficient de corrélation varie entre -1 et 1, où -1 indique une corrélation négative parfaite, 0 indique l'absence de corrélation et 1 indique une corrélation positive parfaite ⁸.\n",
        "\n"
      ],
      "metadata": {
        "id": "sdMlFbetdIk3"
      },
      "id": "sdMlFbetdIk3"
    },
    {
      "cell_type": "markdown",
      "source": [
        "# Partie II - Bases statistiques"
      ],
      "metadata": {
        "id": "yz3xvnriAHFe"
      },
      "id": "yz3xvnriAHFe"
    },
    {
      "cell_type": "markdown",
      "source": [
        "---\n",
        "# References\n",
        "\n",
        "<a id=\"1\" href=\"https://www.simplypsychology.org/steps-of-the-scientific-method.html\">What Are The Steps Of The Scientific Method?, Julia Simkus, Simply Psychology</a>  \n",
        "<a id=\"2\" href=\"https://www.science.lu/fr/comment-les-chercheurs-travaillent/cest-quoi-methode-scientifique\">C’est quoi, la méthode scientifique?, Jean-Paul Bertemes (FNR), science.lu</a>.\n",
        "(1) . https://bing.com/search?q=corr%c3%a9lation+en+m%c3%a9thode+exp%c3%a9rimentale+d%c3%a9finition.\n",
        "(2) undefined. https://www.questionpro.com/blog/fr/correlation-analysis/.\n",
        "(3) . https://bing.com/search?q=corr%c3%a9lation+en+m%c3%a9thode+exp%c3%a9rimentale.\n",
        "(4) Corrélation : Définition simple et facile du dictionnaire - L'Internaute. https://www.linternaute.fr/dictionnaire/fr/definition/correlation/.\n",
        "(5) 3 - La méthode expérimentale - Cours de Psychologie. https://www.psychologie.fr/cour/2-48/3-la-methode-experimentale.html.\n",
        "(6) Chapitre II - La méthode corrélationnelle et les mesures en psychologie .... https://www.cairn.info/les-methodes-en-psychologie--9782130633884-page-40.htm.\n",
        "(7) Conception expérimentale : définition et principes - Voxco. https://www.voxco.com/fr/blog/correlation-vs-causalite-definitions-differences-et-exemples/.\n",
        "(8) undefined. https://www.voxco.com/fr/blog/recherche-correlationnelle-definition-exemples-et-methodes/.\n",
        "(9) undefined. https://www.voxco.com/fr/blog/analyse-de-correlation-definition-utilisation-avantages-importance-types-et-facteurs-influencant-la-correlation/."
      ],
      "metadata": {
        "id": "zYmU_v-lkC3J"
      },
      "id": "zYmU_v-lkC3J"
    },
    {
      "cell_type": "markdown",
      "source": [],
      "metadata": {
        "id": "Jvim3VvVEF6d"
      },
      "id": "Jvim3VvVEF6d"
    }
  ],
  "metadata": {
    "kernelspec": {
      "display_name": "Python 3",
      "language": "python",
      "name": "python3"
    },
    "language_info": {
      "codemirror_mode": {
        "name": "ipython",
        "version": 2
      },
      "file_extension": ".py",
      "mimetype": "text/x-python",
      "name": "python",
      "nbconvert_exporter": "python",
      "pygments_lexer": "ipython2",
      "version": "2.7.6"
    },
    "colab": {
      "provenance": [],
      "toc_visible": true
    }
  },
  "nbformat": 4,
  "nbformat_minor": 5
}