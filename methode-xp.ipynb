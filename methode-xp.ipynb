{
 "cells": [
  {
   "cell_type": "markdown",
   "source": [
    "# Fiche de revision - Methode Expérimentale\n",
    "\n",
    "<table style=\"border-style: none\">\n",
    "<tr>\n",
    "<td>\n",
    "<img src=\"https://github.com/0eix/revisions/blob/main/img/1.png?raw=1\" alt=\"The scientific method\" width=\"500\"/>\n",
    "</td>\n",
    "</tr>\n",
    "\n",
    "<tr>\n",
    "<td>\n",
    "<img src=\"https://github.com/0eix/revisions/blob/main/img/2.png?raw=1\" alt=\"The scientific method\" width=\"500\"/>\n",
    "</td>\n",
    "</tr>\n",
    "\n",
    "<tr>\n",
    "<td>\n",
    "<img src=\"https://github.com/0eix/revisions/blob/main/img/3.png?raw=1\" alt=\"The scientific method\" width=\"500\"/>\n",
    "</td>\n",
    "</tr>\n",
    "\n",
    "<tr>\n",
    "<td>\n",
    "<img src=\"https://github.com/0eix/revisions/blob/main/img/4.png?raw=1\" alt=\"The scientific method\" width=\"500\"/>\n",
    "</td>\n",
    "</tr>\n",
    "\n",
    "<tr>\n",
    "<td>\n",
    "<img src=\"https://github.com/0eix/revisions/blob/main/img/5.png?raw=1\" alt=\"The scientific method\" width=\"500\"/>\n",
    "</td>\n",
    "</tr>\n",
    "\n",
    "<tr>\n",
    "<td>\n",
    "<img src=\"https://github.com/0eix/revisions/blob/main/img/6.png?raw=1\" alt=\"The scientific method\" width=\"500\"/>\n",
    "</td>\n",
    "</tr>\n",
    "</table>\n",
    "\n",
    "[Exemple de méthode par expérimentation : la panne de grille-pain, Khan Academy](https://fr.khanacademy.org/science/high-school-biology/hs-biology-foundations/hs-biology-and-the-scientific-method/a/hs-biology-and-the-scientific-method-review)"
   ],
   "metadata": {
    "id": "w9KhAcEYKrpW"
   },
   "id": "w9KhAcEYKrpW"
  },
  {
   "cell_type": "markdown",
   "source": [
    "---\n",
    "# Introduction\n",
    "\n",
    "La science n'est pas seulement de la connaissance. C'est aussi une méthode de construction de connaissances qui repose sur la méthode scientifique. [<sup>1</sup>](#1)\n",
    "\n",
    "La méthode scientifique est une méthode rigoureuse qui permet de construire des connaissances en partant d'une question, en faisant des recherches, en émettant une hypothèse, en testant cette hypothèse par une expérience et en analysant les résultats pour en tirer une conclusion. [<sup>2</sup>](#2) \n",
    "\n",
    "<img src=\"./img/The_Scientific_Method.svg.png?raw=1\" alt=\"The scientific method\" width=\"500\" height=\"500\" />\n",
    "\n",
    "Le scientifique va imaginer une expérience pour tester son hypothèse – ou plutôt, il va formuler son hypothèse de façon à pouvoir la tester par une expérience. Cette expérience doit naturellement remplir certains critères. Elle doit par exemple être construite de manière à ce que l’hypothèse puisse être clairement démontrée.\n",
    "\n",
    "De plus, les scientifiques du monde entier doivent être capables de reproduire cette expérience – et obtenir les mêmes résultats. Si tel n’est pas le cas, l’expérience n’est pas valable. [<sup>2</sup>](#2)\n",
    "\n",
    "Le test d'hypothèse par une experience est donc un element central de la methode scientifique qui est d'ailleur au coeur des papiers de recherche suivant le model IMRaD. On le retrouve dans la section **Methodes** ou **Methodes Experimentale**.\n",
    "\n",
    "<img src=\"./img/Wineglass_model_for_IMRaD_structure..png\" alt=\"Model IMRaD\"/>\n",
    "\n",
    "Dans une expérience, une variable indépendante (la cause) est manipulée, et une variable dépendante (l'effet) est mesurée ; toute variable extérieure est contrôlée. L'objectif est de d'établir des relations de cause à effet 3.\n",
    "\n",
    "Un avantage est que les expériences devraient être objectives. Les opinions et les points de vue du chercheur ne devraient pas influencer les résultats de l'étude. C'est bénéfique car cela rend les données plus valides et moins biaisées 4.\n",
    "\n",
    "<img src=\"./img/variables2.webp?raw=1\" alt=\"Experience\"/>"
   ],
   "metadata": {
    "collapsed": false,
    "id": "d2fd918af2bc636c"
   },
   "id": "d2fd918af2bc636c"
  },
  {
   "cell_type": "markdown",
   "source": [
    "# References\n",
    "\n",
    "<a id=\"1\" href=\"https://www.simplypsychology.org/steps-of-the-scientific-method.html\">What Are The Steps Of The Scientific Method?, Julia Simkus, Simply Psychology</a>  \n",
    "<a id=\"2\" href=\"https://www.science.lu/fr/comment-les-chercheurs-travaillent/cest-quoi-methode-scientifique\">C’est quoi, la méthode scientifique?, Jean-Paul Bertemes (FNR), science.lu</a>"
   ],
   "metadata": {
    "id": "zYmU_v-lkC3J"
   },
   "id": "zYmU_v-lkC3J"
  },
  {
   "cell_type": "markdown",
   "source": [],
   "metadata": {
    "id": "Jvim3VvVEF6d"
   },
   "id": "Jvim3VvVEF6d"
  }
 ],
 "metadata": {
  "kernelspec": {
   "display_name": "Python 3",
   "language": "python",
   "name": "python3"
  },
  "language_info": {
   "codemirror_mode": {
    "name": "ipython",
    "version": 2
   },
   "file_extension": ".py",
   "mimetype": "text/x-python",
   "name": "python",
   "nbconvert_exporter": "python",
   "pygments_lexer": "ipython2",
   "version": "2.7.6"
  },
  "colab": {
   "provenance": [],
   "toc_visible": true
  }
 },
 "nbformat": 4,
 "nbformat_minor": 5
}
