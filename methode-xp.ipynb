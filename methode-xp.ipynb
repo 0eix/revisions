{
 "cells": [
  {
   "cell_type": "markdown",
   "source": [
    "## Partie 1 - Rappel\n",
    "\n",
    "La science n'est pas seulement de la connaissance. C'est aussi\n",
    "une méthode de construction de connaissances qui repose sur la méthode scientifique.\n",
    "\n",
    "La méthode scientifique est une méthode rigoureuse qui permet de construire des connaissances en partant d'une question, en faisant des recherches, en émettant une hypothèse, en testant cette hypothèse par une expérience et en analysant les résultats pour en tirer une conclusion 1.\n",
    "\n",
    "<img src=\"./img/The_Scientific_Method.svg.png\" alt=\"The scientific method\" width=\"600\" height=\"600\" />\n",
    "\n",
    "La méthode scientifique est un processus étape par étape utilisé par les chercheurs et les scientifiques pour déterminer s'il existe une relation entre deux variables ou plus. Les psychologues utilisent cette méthode pour mener des recherches en psychologie, recueillir des données, traiter des informations et décrire des comportements.\n",
    "\n",
    "Elle implique une observation attentive, la formulation de questions, l'élaboration d'hypothèses, des tests expérimentaux et l'affinement des hypothèses en fonction des résultats expérimentaux.\n",
    "\n",
    "L'une des étapes finales du cycle de recherche consiste à publier la recherche. Une fois le rapport rédigé, le chercheur ou les chercheurs peuvent soumettre le travail en vue de sa publication dans une revue appropriée.\n",
    "\n",
    "La structure des articles scientifiques est l'ordre de présentation du contenu que suivent les articles rédigés à destination d'une communauté scientifique. En matière de publication scientifique, IMRAD ou IMRaD (Introduction, Methods, Results, and Discussion) constitue une structure standard communément employée dans les revues scientifiques."
   ],
   "metadata": {
    "collapsed": false
   },
   "id": "d2fd918af2bc636c"
  },
  {
   "cell_type": "code",
   "execution_count": null,
   "outputs": [],
   "source": [],
   "metadata": {
    "collapsed": false,
    "ExecuteTime": {
     "end_time": "2023-10-27T06:06:45.026034Z",
     "start_time": "2023-10-27T06:06:45.017246Z"
    }
   },
   "id": "a87c826301883964"
  }
 ],
 "metadata": {
  "kernelspec": {
   "display_name": "Python 3",
   "language": "python",
   "name": "python3"
  },
  "language_info": {
   "codemirror_mode": {
    "name": "ipython",
    "version": 2
   },
   "file_extension": ".py",
   "mimetype": "text/x-python",
   "name": "python",
   "nbconvert_exporter": "python",
   "pygments_lexer": "ipython2",
   "version": "2.7.6"
  }
 },
 "nbformat": 4,
 "nbformat_minor": 5
}
