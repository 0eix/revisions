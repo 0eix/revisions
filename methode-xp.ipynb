{
  "cells": [
    {
      "cell_type": "markdown",
      "metadata": {
        "id": "view-in-github",
        "colab_type": "text"
      },
      "source": [
        "<a href=\"https://colab.research.google.com/github/0eix/revisions/blob/main/methode-xp.ipynb\" target=\"_parent\"><img src=\"https://colab.research.google.com/assets/colab-badge.svg\" alt=\"Open In Colab\"/></a>"
      ]
    },
    {
      "cell_type": "markdown",
      "source": [
        "# **Fiche de revision - Methode Expérimentale**\n",
        "\n",
        "<table style=\"border-style: none\">\n",
        "<tr>\n",
        "<td>\n",
        "<img src=\"https://github.com/0eix/revisions/blob/main/img/1.png?raw=1\" alt=\"The scientific method\" width=\"500\"/>\n",
        "</td>\n",
        "</tr>\n",
        "\n",
        "<tr>\n",
        "<td>\n",
        "<img src=\"https://github.com/0eix/revisions/blob/main/img/2.png?raw=1\" alt=\"The scientific method\" width=\"500\"/>\n",
        "</td>\n",
        "</tr>\n",
        "\n",
        "<tr>\n",
        "<td>\n",
        "<img src=\"https://github.com/0eix/revisions/blob/main/img/3.png?raw=1\" alt=\"The scientific method\" width=\"500\"/>\n",
        "</td>\n",
        "</tr>\n",
        "\n",
        "<tr>\n",
        "<td>\n",
        "<img src=\"https://github.com/0eix/revisions/blob/main/img/4.png?raw=1\" alt=\"The scientific method\" width=\"500\"/>\n",
        "</td>\n",
        "</tr>\n",
        "\n",
        "<tr>\n",
        "<td>\n",
        "<img src=\"https://github.com/0eix/revisions/blob/main/img/5.png?raw=1\" alt=\"The scientific method\" width=\"500\"/>\n",
        "</td>\n",
        "</tr>\n",
        "\n",
        "<tr>\n",
        "<td>\n",
        "<img src=\"https://github.com/0eix/revisions/blob/main/img/6.png?raw=1\" alt=\"The scientific method\" width=\"500\"/>\n",
        "</td>\n",
        "</tr>\n",
        "</table>\n",
        "\n",
        "[Exemple de méthode par expérimentation : la panne de grille-pain, Khan Academy](https://fr.khanacademy.org/science/high-school-biology/hs-biology-foundations/hs-biology-and-the-scientific-method/a/hs-biology-and-the-scientific-method-review)"
      ],
      "metadata": {
        "id": "w9KhAcEYKrpW"
      },
      "id": "w9KhAcEYKrpW"
    },
    {
      "cell_type": "markdown",
      "source": [
        "---\n",
        "# **Introduction**\n",
        "\n",
        "En science, pour être valide, le processus de production de toute connaissance scientifique, qu'il s'agisse d'observations, d'expériences, de raisonnements, ou de calculs théoriques doit être guidé par un ensemble de canons appelé *méthode scientifique*[<sup>[1]</sup>](#1).  \n",
        "\n",
        "## **1. La méthode hypothético-déductive**\n",
        "La méthode hypothético-déductive est une méthode scientifique rigoureuse qui permet de construire des connaissances en partant d'une question, en faisant des recherches, en émettant une hypothèse, en testant cette hypothèse par une expérience et en analysant les résultats pour en tirer une conclusion.  \n",
        "Si les données collectées correspondent aux prédictions, cela renforce la validité de l'hypothèse. Sinon, l'hypothèse doit être révisée. Cette méthode est un processus cyclique de formulation d'hypothèses, de prédiction, de test, et de révision[<sup>[2]</sup>](#2).\n",
        "\n",
        "<img src=\"https://github.com/0eix/revisions/blob/main/img/The_Scientific_Method.svg.png?raw=1\" alt=\"The scientific method\" width=\"500\" height=\"500\" />\n",
        "\n",
        "<img src=\"https://github.com/0eix/revisions/blob/main/img/Me%CC%81thode_scientifique.png?raw=1\" alt=\"The scientific method\" width=\"500\" height=\"500\" />\n",
        "\n",
        "## **2. La méthode expérimentale**\n",
        "La méthode expérimentale est une forme de la méthode hypothético-déductive qui vise à mettre à l'épreuve la validité d'une hypothèse en manipulant une variable indépendante (liée à l'hypothèse que l'on souhaite tester), considérée comme la cause, tandis qu'une variable dépendante, représentant l'effet, est mesurée. De plus, toutes les variables extérieures susceptibles d'influencer les résultats sont rigoureusement contrôlées. L'objectif ultime est d'établir des relations de cause à effet[<sup>[3]</sup>](#3).\n",
        "\n",
        "<img src=\"https://github.com/0eix/revisions/blob/main/img/variables2.webp?raw=1\" width=\"500\" alt=\"Variables d'une experience\"/>\n",
        "<img src=\"https://github.com/0eix/revisions/blob/main/img/variables.webp?raw=1\" width=\"500\" alt=\"Variables d'une experience\"/>\n",
        "\n",
        "## **3. IMRaD**\n",
        "L'une des étapes finales du cycle de recherche consiste à publier la recherche. La structure standard des articles scientifiques communément employée dans les revues en psychologie est IMRaD (Introduction, Methods, Results, and Discussion) dont la méthode expérimentale et les resultats figurent au coeur.\n",
        "\n",
        "<img src=\"https://github.com/0eix/revisions/blob/main/img/Wineglass_model_for_IMRaD_structure..png?raw=1\" alt=\"Model IMRaD\"/>\n",
        "\n"
      ],
      "metadata": {
        "collapsed": false,
        "id": "d2fd918af2bc636c"
      },
      "id": "d2fd918af2bc636c"
    },
    {
      "cell_type": "markdown",
      "source": [
        "---\n",
        "# **Partie I - Étapes et concepts clés de la Méthode Expérimentale**\n",
        "## 1. Hypothèse Nulle (H0)\n",
        "Lorsque vous menez une expérience, vous commencez généralement par formuler une hypothèse nulle (H0). Cette hypothèse stipule qu'il n'y a pas de différence ou de relation réelle dans la population étudiée, c'est-à-dire que toute différence observée est le résultat du hasard.\n",
        "\n",
        "## 2. Hypothèse Alternative (H1)\n",
        "En opposition à l'hypothèse nulle, vous avez l'hypothèse alternative (H1), qui affirme qu'il existe une différence ou une relation réelle dans la population\n",
        "\n",
        "## 3. Plan d'Observation (Collecte de Données):\n",
        "Lorsque vous concevez une expérience, vous avez une question de recherche en tête, comme \"Est-ce que X a un effet sur Y ?\" Vous commencez par élaborer un plan d'observation pour répondre à cette question. Dans ce plan, vous décrivez comment vous allez collecter des données, quelles variables vous allez mesurer, comment vous allez manipuler une variable indépendante (par exemple, X) et comment vous allez mesurer son effet sur une variable dépendante (par exemple, Y). Le plan d'observation détaille également la méthodologie, les participants, les instruments, etc.\n",
        "\n",
        "## 4. Test Statistique (Calcul de la p-value)\n",
        "Vous utilisez un test statistique approprié pour analyser vos données. Le test statistique compare les données que vous avez collectées avec ce à quoi vous vous attendriez sous l'hypothèse nulle.\n",
        "\n",
        "La p-value est calculée par le test statistique. Elle représente la probabilité d'obtenir des résultats aussi extrêmes ou plus extrêmes que ceux observés, si l'hypothèse nulle était vraie. Plus précisément, la p-value indique à quel point les données sont compatibles avec l'hypothèse nulle.\n",
        "- Une petite p-value (par exemple, p < 0,05) suggère que les données que vous avez collectées sont peu probables sous l'hypothèse nulle. Cela signifie que vous avez des preuves contre l'hypothèse nulle, et vous pouvez rejeter l'hypothèse nulle en faveur de l'hypothèse alternative.\n",
        "- Une grande p-value suggère que les données que vous avez collectées sont compatibles avec l'hypothèse nulle. Cela signifie que vous n'avez pas suffisamment de preuves pour rejeter l'hypothèse nulle.\n",
        "\n",
        "<img src=\"https://github.com/0eix/revisions/blob/main/img/p-value.jpg?raw=1\" alt=\"p-value\" width=\"500\"/>\n",
        "\n",
        "\n",
        "Il existe différents types de tests en fonction du type d'expérience et de la nature des données collectées. Les plus souvent utilisés en psychologie sont:\n",
        "- Test t de Student : utilisé pour comparer les moyennes de deux groupes 1.\n",
        "- ANOVA (Analyse de la variance) : utilisée pour comparer les moyennes de trois groupes ou plus 2.\n",
        "- Régression linéaire : utilisée pour étudier la relation entre deux variables continues 3.\n",
        "- Chi-carré : utilisé pour étudier la relation entre deux variables catégorielles 4.\n",
        "- Test de Wilcoxon-Mann-Whitney : utilisé pour comparer les distributions de deux groupes 5.\n",
        "\n",
        "<img src=\"https://github.com/0eix/revisions/blob/main/img/C68JR0h9QP-Mr6KmxWE_5A_2c468168715443de9367c9978d8500f1_DAM01FG035-Selecting-a-Statistical-Test-in-video-.png?raw=1\" alt=\"type of analysis\" width=\"500\"/>\n",
        "\n",
        "## 5. Signification Statistique (Alpha) :\n",
        "Alpha (α) est le seuil de signification statistique que vous choisissez pour votre expérience. Il représente la probabilité d'obtenir des résultats similaires à ceux observés, simplement en raison du hasard. Typiquement, α est fixé à 0.05, ce qui signifie que si la probabilité d'obtenir vos résultats par pur hasard est inférieure à 5%, vous considérez les résultats comme statistiquement significatifs. C'est à dire que selon vos analyses statistiques, il y a des preuves solides que la différence que vous avez observée n'est pas le résultat du hasard à cet effet l'hypotèse devrait être rejetée.\n",
        "\n",
        "## 6. Taille de l'Effet (Effect Size) :\n",
        "Une fois que vous avez effectué votre expérience et obtenu des résultats statistiquement significatifs, il est essentiel de mesurer la taille de l'effet. La taille de l'effet quantifie l'importance ou l'ampleur de la relation que vous avez observée entre les variables indépendantes et la variable dépendante.\n",
        "\n",
        "Cela permet de déterminer si la différence que vous avez détectée est également d'importance pratique. Par exemple, une petite différence peut être statistiquement significative mais n'avoir que peu d'impact dans le monde réel, tandis qu'une grande différence peut être à la fois statistiquement significative et d'une grande importance.\n",
        "\n",
        "La taille de l'effet est souvent exprimée en termes de coefficients (comme le d de Cohen) ou de pourcentages pour faciliter la compréhension de l'impact réel d'une intervention ou d'une variable sur un phénomène.\n",
        "\n",
        "Le calcul de la taille de l'effet dépend egalement du type de données que vous avez et du contexte de votre recherche. Par exemple:\n",
        "\n",
        "- Pour les données de différence entre les moyennes : le Cohen's d est une mesure couramment utilisée. `d = (M1 - M2) / σ`\n",
        "- Pour les données de corrélation : le coefficient de corrélation de Pearson (r) mesure la force et la direction de la relation entre deux variables continues.\n",
        "- Pour les données de régression: les coefficients de régression (ß) indiquent comment une variable indépendante (prédicteur) influence une variable dépendante (cible).\n",
        "\n",
        "## 7. Puissance Statistique (Statistical Power) :\n",
        "La puissance statistique est la probabilité de rejeter correctement une hypothèse nulle fausse. Elle est liée à la taille de l'échantillon, à l'alpha et à la taille de l'effet. Une expérience avec une grande puissance est plus susceptible de détecter des effets réels, tandis qu'une expérience avec une faible puissance est moins susceptible de le faire. Il est important de planifier votre expérience de manière à avoir une puissance statistique suffisamment élevée pour minimiser les risques d'erreurs de type II (ne pas détecter un effet réel).\n",
        "<img src=\"https://github.com/0eix/revisions/blob/main/img/C01ZtuHCRVeoFbyfX3OI6g_10c47099d8874435889f03cb8a7ba4f1_DACAM01FG033-Type-I-and-Type-II-Error-Table.png?raw=1\" alt=\"Statistical Power\"/>\n",
        "\n",
        "<img src=\"https://github.com/0eix/revisions/blob/main/img/power2.png?raw=1\" alt=\"Statistical Power\" width=\"500\"/>\n",
        "\n",
        "## 8. Plan d'analyse:\n",
        "Le plan d'analyse consiste à analyser les résultats de votre expérience, vous examinez si la différence que vous avez observée est statistiquement significative, si la taille de l'effet est grande et puissance statistique permet d'établir que vos résultats sont fiables.\n",
        "\n",
        "\n",
        "## 9. Validité interne d'une etude\n",
        "Validité interne: Existe-t'il une autre variable à par les variables independantes qui puisse avoir causé le resultat ? Les variables externes ont-elles été controllées ?\n",
        "\n",
        "## 10. Validité externe d'une etude\n",
        "Validité externe ou écologique: Y-a-t'il absence de biais dans la selection de l'echantillon ? l'echantillon est il representatif de ma population ? Les resulats pourront-il etre généralisés à la population?\n",
        "\n",
        "## 11. Population vs Echantillon\n",
        "La population est l'ensemble complet des individus sur lesquels nous souhaitons tirer une conclusion, tandis que l'échantillon est un sous-ensemble de la population.\n",
        "\n",
        "Pour etre valide un échantillon doit etre representatif de la poupulation, a.i.id (aléatoire, identiquement distribué et indépendant) et de taille raisonable.\n",
        "\n",
        "plus l'échantillon est petit plus le risque de biais d'échantillonnage augmente.\n",
        "\n"
      ],
      "metadata": {
        "id": "sdMlFbetdIk3"
      },
      "id": "sdMlFbetdIk3"
    },
    {
      "cell_type": "markdown",
      "source": [
        "---\n",
        "# **Partie II - Variables et Plan d'expérience**\n",
        "\n"
      ],
      "metadata": {
        "id": "yz3xvnriAHFe"
      },
      "id": "yz3xvnriAHFe"
    },
    {
      "cell_type": "markdown",
      "source": [
        "---\n",
        "# References\n",
        "\n",
        "<a id=\"1\" href=\"https://www.simplypsychology.org/steps-of-the-scientific-method.html\">What Are The Steps Of The Scientific Method?, Julia Simkus, Simply Psychology</a>  \n",
        "<a id=\"2\" href=\"https://www.science.lu/fr/comment-les-chercheurs-travaillent/cest-quoi-methode-scientifique\">C’est quoi, la méthode scientifique?, Jean-Paul Bertemes (FNR), science.lu</a>.\n",
        "(1) . https://bing.com/search?q=corr%c3%a9lation+en+m%c3%a9thode+exp%c3%a9rimentale+d%c3%a9finition.\n",
        "(2) undefined. https://www.questionpro.com/blog/fr/correlation-analysis/.\n",
        "(3) . https://bing.com/search?q=corr%c3%a9lation+en+m%c3%a9thode+exp%c3%a9rimentale.\n",
        "(4) Corrélation : Définition simple et facile du dictionnaire - L'Internaute. https://www.linternaute.fr/dictionnaire/fr/definition/correlation/.\n",
        "(5) 3 - La méthode expérimentale - Cours de Psychologie. https://www.psychologie.fr/cour/2-48/3-la-methode-experimentale.html.\n",
        "(6) Chapitre II - La méthode corrélationnelle et les mesures en psychologie .... https://www.cairn.info/les-methodes-en-psychologie--9782130633884-page-40.htm.\n",
        "(7) Conception expérimentale : définition et principes - Voxco. https://www.voxco.com/fr/blog/correlation-vs-causalite-definitions-differences-et-exemples/.\n",
        "(8) undefined. https://www.voxco.com/fr/blog/recherche-correlationnelle-definition-exemples-et-methodes/.\n",
        "(9) undefined. https://www.voxco.com/fr/blog/analyse-de-correlation-definition-utilisation-avantages-importance-types-et-facteurs-influencant-la-correlation/."
      ],
      "metadata": {
        "id": "zYmU_v-lkC3J"
      },
      "id": "zYmU_v-lkC3J"
    },
    {
      "cell_type": "markdown",
      "source": [],
      "metadata": {
        "id": "Jvim3VvVEF6d"
      },
      "id": "Jvim3VvVEF6d"
    }
  ],
  "metadata": {
    "kernelspec": {
      "display_name": "Python 3",
      "language": "python",
      "name": "python3"
    },
    "language_info": {
      "codemirror_mode": {
        "name": "ipython",
        "version": 2
      },
      "file_extension": ".py",
      "mimetype": "text/x-python",
      "name": "python",
      "nbconvert_exporter": "python",
      "pygments_lexer": "ipython2",
      "version": "2.7.6"
    },
    "colab": {
      "provenance": [],
      "toc_visible": true,
      "include_colab_link": true
    }
  },
  "nbformat": 4,
  "nbformat_minor": 5
}