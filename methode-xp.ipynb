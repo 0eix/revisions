{
  "cells": [
    {
      "cell_type": "markdown",
      "source": [
        "# Fiche de cours - Methode expérimentale"
      ],
      "metadata": {
        "id": "w9KhAcEYKrpW"
      },
      "id": "w9KhAcEYKrpW"
    },
    {
      "cell_type": "markdown",
      "source": [
        "## Introduction\n",
        "\n",
        "<figure>\n",
        "<img src=\"https://github.com/0eix/revisions/blob/main/img/1.png?raw=1\" alt=\"The scientific method\" width=\"500\"/>\n",
        "<img src=\"https://github.com/0eix/revisions/blob/main/img/2.png?raw=1\" alt=\"The scientific method\" width=\"500\"/>\n",
        "<img src=\"https://github.com/0eix/revisions/blob/main/img/3.png?raw=1\" alt=\"The scientific method\" width=\"500\"/>\n",
        "<img src=\"https://github.com/0eix/revisions/blob/main/img/4.png?raw=1\" alt=\"The scientific method\" width=\"500\"/>\n",
        "<img src=\"https://github.com/0eix/revisions/blob/main/img/5.png?raw=1\" alt=\"The scientific method\" width=\"500\"/>\n",
        "<img src=\"https://github.com/0eix/revisions/blob/main/img/6.png?raw=1\" alt=\"The scientific method\" width=\"500\"/>\n",
        "</figure>\n",
        "\n",
        "\n",
        "La science n'est pas seulement de la connaissance. C'est aussi\n",
        "une méthode de construction de connaissances qui repose sur la méthode scientifique. [1](#1)\n",
        "\n",
        "La méthode scientifique est une méthode rigoureuse qui permet de construire des connaissances en partant d'une question, en faisant des recherches, en émettant une hypothèse, en testant cette hypothèse par une expérience et en analysant les résultats pour en tirer une conclusion [1](#2).\n",
        "\n",
        "<img src=\"https://github.com/0eix/revisions/blob/main/img/The_Scientific_Method.svg.png?raw=1\" alt=\"The scientific method\" width=\"500\" height=\"500\" />\n",
        "\n",
        "\n",
        "### 1. La méthode expérimentale\n",
        "\n",
        "Pour tester une hypothèse, l'une des méthodes utilisées par les chercheurs et les scientifiques en psychologie est **la méthode expérimentale**. Elle consiste à tester une hypothèse par une expérience 2 et implique la manipulation de variables pour établir des relations de cause à effet 3.\n",
        "\n",
        "Dans une expérience, une variable indépendante (la cause) est manipulée, et une variable dépendante (l'effet) est mesurée ; toute variable extérieure est contrôlée.\n",
        "\n",
        "Un avantage est que les expériences devraient être objectives. Les opinions et les points de vue du chercheur ne devraient pas influencer les résultats de l'étude. C'est bénéfique car cela rend les données plus valides et moins biaisées 4.\n",
        "\n",
        "<img src=\"https://github.com/0eix/revisions/blob/main/img/variables2.webp?raw=1\" alt=\"Experience\"/>\n",
        "\n",
        "Les caractéristiques clés sont des méthodes contrôlées et l'attribution aléatoire des participants à des groupes contrôlés et expérimentaux.\n",
        "\n",
        "La structure des articles scientifiques est l'ordre de présentation du contenu que suivent les articles rédigés à destination d'une communauté scientifique. En matière de publication scientifique, IMRAD ou IMRaD (Introduction, Methods, Results, and Discussion) constitue une structure standard communément employée dans les revues scientifiques.\n"
      ],
      "metadata": {
        "collapsed": false,
        "id": "d2fd918af2bc636c"
      },
      "id": "d2fd918af2bc636c"
    },
    {
      "cell_type": "markdown",
      "source": [
        "## References"
      ],
      "metadata": {
        "id": "zYmU_v-lkC3J"
      },
      "id": "zYmU_v-lkC3J"
    },
    {
      "cell_type": "markdown",
      "source": [
        "<a id=\"1\" href=\"https://www.simplypsychology.org/steps-of-the-scientific-method.html\">What Are The Steps Of The Scientific Method?, Julia Simkus, Simply Psychology</a>\n"
      ],
      "metadata": {
        "id": "Jvim3VvVEF6d"
      },
      "id": "Jvim3VvVEF6d"
    }
  ],
  "metadata": {
    "kernelspec": {
      "display_name": "Python 3",
      "language": "python",
      "name": "python3"
    },
    "language_info": {
      "codemirror_mode": {
        "name": "ipython",
        "version": 2
      },
      "file_extension": ".py",
      "mimetype": "text/x-python",
      "name": "python",
      "nbconvert_exporter": "python",
      "pygments_lexer": "ipython2",
      "version": "2.7.6"
    },
    "colab": {
      "provenance": [],
      "toc_visible": true
    }
  },
  "nbformat": 4,
  "nbformat_minor": 5
}